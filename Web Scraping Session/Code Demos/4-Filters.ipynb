{
 "cells": [
  {
   "cell_type": "code",
   "execution_count": 1,
   "metadata": {},
   "outputs": [],
   "source": [
    "import re\n",
    "\n",
    "from bs4 import BeautifulSoup"
   ]
  },
  {
   "cell_type": "code",
   "execution_count": 2,
   "metadata": {},
   "outputs": [],
   "source": [
    "## TODO: Please show this file on the webbrowser while recording"
   ]
  },
  {
   "cell_type": "code",
   "execution_count": 3,
   "metadata": {},
   "outputs": [],
   "source": [
    "with open('files/ThreeApplesStory.html') as html_code:\n",
    "    soup = BeautifulSoup(html_code, 'html.parser')"
   ]
  },
  {
   "cell_type": "code",
   "execution_count": 4,
   "metadata": {},
   "outputs": [
    {
     "name": "stdout",
     "output_type": "stream",
     "text": [
      "<html>\n",
      " <head>\n",
      "  <title>\n",
      "   Three Apples\n",
      "  </title>\n",
      " </head>\n",
      " <body>\n",
      "  <p class=\"title\">\n",
      "   <b>\n",
      "    The three Apples that changed the world\n",
      "   </b>\n",
      "  </p>\n",
      "  <p class=\"story\">\n",
      "   Apple has been the divine fruit of creation, the inspiring fruit of the century and the most valuable logo and the 3 apples are\n",
      "   <a class=\"apple\" href=\"https://www.alimentarium.org/en/knowledge/eve-and-forbidden-fruit\" id=\"link1\">\n",
      "    Eve's apple\n",
      "   </a>\n",
      "   ,\n",
      "   <a class=\"apple\" href=\"https://en.wikipedia.org/wiki/Newton%27s_Apple\" id=\"link2\">\n",
      "    Newton's apple\n",
      "   </a>\n",
      "   and\n",
      "   <a class=\"apple\" href=\"https://en.wikipedia.org/wiki/Apple_Store\" id=\"link3\">\n",
      "    Steve Jobs' Apple\n",
      "   </a>\n",
      "   .\n",
      "   <a class=\"3_Apples\" href=\"https://www.speakingtree.in/blog/three-apples-that-changed-the-world\" id=\"link4\">\n",
      "    Here\n",
      "   </a>\n",
      "   is the complete story\n",
      "  </p>\n",
      "  <img alt=\"Image of apples\" src=\"Apples.jpg\"/>\n",
      "  <p>\n",
      "   <i class=\"apple\">\n",
      "    We may have rarely observed these many facets of this remarkably insignificant fruit\n",
      "   </i>\n",
      "  </p>\n",
      " </body>\n",
      "</html>\n",
      "\n"
     ]
    }
   ],
   "source": [
    "print(soup.prettify())"
   ]
  },
  {
   "cell_type": "markdown",
   "metadata": {},
   "source": [
    "### 4 kinds of Filters\n",
    "#### There are four filters which we will use in find( ) and findAll( ) methods by using these filters we can filter the data based on element name, on its attribute and string of text data or some of these combinations, 4 types of filters are:     \n",
    "1. String                                         \n",
    "2. Regular expression                                     \n",
    "3. List                                           \n",
    "4. Function"
   ]
  },
  {
   "cell_type": "markdown",
   "metadata": {},
   "source": [
    "### String"
   ]
  },
  {
   "cell_type": "code",
   "execution_count": 5,
   "metadata": {},
   "outputs": [
    {
     "data": {
      "text/plain": [
       "<a class=\"apple\" href=\"https://www.alimentarium.org/en/knowledge/eve-and-forbidden-fruit\" id=\"link1\">Eve's apple</a>"
      ]
     },
     "execution_count": 5,
     "metadata": {},
     "output_type": "execute_result"
    }
   ],
   "source": [
    "soup.a"
   ]
  },
  {
   "cell_type": "code",
   "execution_count": 17,
   "metadata": {},
   "outputs": [
    {
     "data": {
      "text/plain": [
       "<a class=\"apple\" href=\"https://www.alimentarium.org/en/knowledge/eve-and-forbidden-fruit\" id=\"link1\">Eve's apple</a>"
      ]
     },
     "execution_count": 17,
     "metadata": {},
     "output_type": "execute_result"
    }
   ],
   "source": [
    "soup.find('a')"
   ]
  },
  {
   "cell_type": "code",
   "execution_count": 6,
   "metadata": {},
   "outputs": [
    {
     "data": {
      "text/plain": [
       "[<a class=\"apple\" href=\"https://www.alimentarium.org/en/knowledge/eve-and-forbidden-fruit\" id=\"link1\">Eve's apple</a>,\n",
       " <a class=\"apple\" href=\"https://en.wikipedia.org/wiki/Newton%27s_Apple\" id=\"link2\">Newton's apple</a>,\n",
       " <a class=\"apple\" href=\"https://en.wikipedia.org/wiki/Apple_Store\" id=\"link3\">Steve Jobs' Apple</a>,\n",
       " <a class=\"3_Apples\" href=\"https://www.speakingtree.in/blog/three-apples-that-changed-the-world\" id=\"link4\">Here</a>]"
      ]
     },
     "execution_count": 6,
     "metadata": {},
     "output_type": "execute_result"
    }
   ],
   "source": [
    "soup.find_all('a')"
   ]
  },
  {
   "cell_type": "code",
   "execution_count": 7,
   "metadata": {},
   "outputs": [
    {
     "data": {
      "text/plain": [
       "[<a class=\"apple\" href=\"https://www.alimentarium.org/en/knowledge/eve-and-forbidden-fruit\" id=\"link1\">Eve's apple</a>,\n",
       " <a class=\"apple\" href=\"https://en.wikipedia.org/wiki/Newton%27s_Apple\" id=\"link2\">Newton's apple</a>,\n",
       " <a class=\"apple\" href=\"https://en.wikipedia.org/wiki/Apple_Store\" id=\"link3\">Steve Jobs' Apple</a>,\n",
       " <a class=\"3_Apples\" href=\"https://www.speakingtree.in/blog/three-apples-that-changed-the-world\" id=\"link4\">Here</a>]"
      ]
     },
     "execution_count": 7,
     "metadata": {},
     "output_type": "execute_result"
    }
   ],
   "source": [
    "soup.findAll('a')"
   ]
  },
  {
   "cell_type": "code",
   "execution_count": 20,
   "metadata": {},
   "outputs": [
    {
     "data": {
      "text/plain": [
       "[<title>Three Apples</title>]"
      ]
     },
     "execution_count": 20,
     "metadata": {},
     "output_type": "execute_result"
    }
   ],
   "source": [
    "soup.find_all('title')"
   ]
  },
  {
   "cell_type": "code",
   "execution_count": 21,
   "metadata": {},
   "outputs": [
    {
     "name": "stdout",
     "output_type": "stream",
     "text": [
      "None\n"
     ]
    }
   ],
   "source": [
    "print(soup.find('span'))"
   ]
  },
  {
   "cell_type": "markdown",
   "metadata": {},
   "source": [
    "### Regular expression\n",
    "If we pass any regular expression object to the search method, BeautifulSoup will do match against that regular expression using \"search( )\" ."
   ]
  },
  {
   "cell_type": "code",
   "execution_count": 22,
   "metadata": {},
   "outputs": [
    {
     "data": {
      "text/plain": [
       "<p class=\"title\"><b>The three Apples that changed the world</b></p>"
      ]
     },
     "execution_count": 22,
     "metadata": {},
     "output_type": "execute_result"
    }
   ],
   "source": [
    "soup.find(re.compile(\"^p\"))"
   ]
  },
  {
   "cell_type": "code",
   "execution_count": 23,
   "metadata": {},
   "outputs": [
    {
     "name": "stdout",
     "output_type": "stream",
     "text": [
      "p\n",
      "p\n",
      "p\n"
     ]
    }
   ],
   "source": [
    "for tag in soup.find_all(re.compile(\"^p\")):\n",
    "    print(tag.name)"
   ]
  },
  {
   "cell_type": "code",
   "execution_count": 24,
   "metadata": {},
   "outputs": [
    {
     "name": "stdout",
     "output_type": "stream",
     "text": [
      "p ***** The three Apples that changed the world\n",
      "p ***** Apple has been the divine fruit of creation, the inspiring fruit of the century and the most valuable logo and the 3 apples are \n",
      "\tEve's apple, \n",
      "\tNewton's apple and\n",
      "\tSteve Jobs' Apple.\n",
      "\tHere is the complete story \n",
      "p ***** \n",
      "We may have rarely observed these many facets of this remarkably insignificant fruit\n",
      "\n"
     ]
    }
   ],
   "source": [
    "for tag in soup.find_all(re.compile(\"^p\")):\n",
    "    print(tag.name, '*****', tag.text)"
   ]
  },
  {
   "cell_type": "code",
   "execution_count": 25,
   "metadata": {},
   "outputs": [
    {
     "data": {
      "text/plain": [
       "[<img alt=\"Image of apples\" src=\"Apples.jpg\"/>]"
      ]
     },
     "execution_count": 25,
     "metadata": {},
     "output_type": "execute_result"
    }
   ],
   "source": [
    "soup.find_all(src = 'Apples.jpg')"
   ]
  },
  {
   "cell_type": "code",
   "execution_count": 26,
   "metadata": {},
   "outputs": [
    {
     "data": {
      "text/plain": [
       "[<img alt=\"Image of apples\" src=\"Apples.jpg\"/>]"
      ]
     },
     "execution_count": 26,
     "metadata": {},
     "output_type": "execute_result"
    }
   ],
   "source": [
    "soup.find_all(alt = 'Image of apples')"
   ]
  },
  {
   "cell_type": "code",
   "execution_count": 27,
   "metadata": {},
   "outputs": [
    {
     "data": {
      "text/plain": [
       "[<a class=\"apple\" href=\"https://www.alimentarium.org/en/knowledge/eve-and-forbidden-fruit\" id=\"link1\">Eve's apple</a>,\n",
       " <a class=\"apple\" href=\"https://en.wikipedia.org/wiki/Newton%27s_Apple\" id=\"link2\">Newton's apple</a>,\n",
       " <a class=\"apple\" href=\"https://en.wikipedia.org/wiki/Apple_Store\" id=\"link3\">Steve Jobs' Apple</a>,\n",
       " <i class=\"apple\">We may have rarely observed these many facets of this remarkably insignificant fruit</i>]"
      ]
     },
     "execution_count": 27,
     "metadata": {},
     "output_type": "execute_result"
    }
   ],
   "source": [
    "soup.find_all(class_ = 'apple')"
   ]
  },
  {
   "cell_type": "code",
   "execution_count": 28,
   "metadata": {},
   "outputs": [
    {
     "data": {
      "text/plain": [
       "[<a class=\"apple\" href=\"https://www.alimentarium.org/en/knowledge/eve-and-forbidden-fruit\" id=\"link1\">Eve's apple</a>,\n",
       " <a class=\"apple\" href=\"https://en.wikipedia.org/wiki/Newton%27s_Apple\" id=\"link2\">Newton's apple</a>,\n",
       " <a class=\"apple\" href=\"https://en.wikipedia.org/wiki/Apple_Store\" id=\"link3\">Steve Jobs' Apple</a>,\n",
       " <a class=\"3_Apples\" href=\"https://www.speakingtree.in/blog/three-apples-that-changed-the-world\" id=\"link4\">Here</a>]"
      ]
     },
     "execution_count": 28,
     "metadata": {},
     "output_type": "execute_result"
    }
   ],
   "source": [
    "soup.find_all(href = True)"
   ]
  },
  {
   "cell_type": "code",
   "execution_count": 29,
   "metadata": {},
   "outputs": [
    {
     "data": {
      "text/plain": [
       "[<a class=\"apple\" href=\"https://www.alimentarium.org/en/knowledge/eve-and-forbidden-fruit\" id=\"link1\">Eve's apple</a>,\n",
       " <a class=\"apple\" href=\"https://en.wikipedia.org/wiki/Newton%27s_Apple\" id=\"link2\">Newton's apple</a>,\n",
       " <a class=\"apple\" href=\"https://en.wikipedia.org/wiki/Apple_Store\" id=\"link3\">Steve Jobs' Apple</a>,\n",
       " <i class=\"apple\">We may have rarely observed these many facets of this remarkably insignificant fruit</i>]"
      ]
     },
     "execution_count": 29,
     "metadata": {},
     "output_type": "execute_result"
    }
   ],
   "source": [
    "soup.find_all(class_ = re.compile('^app'))"
   ]
  },
  {
   "cell_type": "code",
   "execution_count": 30,
   "metadata": {},
   "outputs": [
    {
     "data": {
      "text/plain": [
       "[<a class=\"apple\" href=\"https://www.alimentarium.org/en/knowledge/eve-and-forbidden-fruit\" id=\"link1\">Eve's apple</a>,\n",
       " <a class=\"apple\" href=\"https://en.wikipedia.org/wiki/Newton%27s_Apple\" id=\"link2\">Newton's apple</a>,\n",
       " <a class=\"apple\" href=\"https://en.wikipedia.org/wiki/Apple_Store\" id=\"link3\">Steve Jobs' Apple</a>]"
      ]
     },
     "execution_count": 30,
     "metadata": {},
     "output_type": "execute_result"
    }
   ],
   "source": [
    "soup.find_all('a', attrs = {'class': re.compile('^app')})"
   ]
  },
  {
   "cell_type": "code",
   "execution_count": 31,
   "metadata": {},
   "outputs": [
    {
     "data": {
      "text/plain": [
       "[<a class=\"apple\" href=\"https://www.alimentarium.org/en/knowledge/eve-and-forbidden-fruit\" id=\"link1\">Eve's apple</a>,\n",
       " <a class=\"apple\" href=\"https://en.wikipedia.org/wiki/Newton%27s_Apple\" id=\"link2\">Newton's apple</a>,\n",
       " <a class=\"apple\" href=\"https://en.wikipedia.org/wiki/Apple_Store\" id=\"link3\">Steve Jobs' Apple</a>,\n",
       " <i class=\"apple\">We may have rarely observed these many facets of this remarkably insignificant fruit</i>]"
      ]
     },
     "execution_count": 31,
     "metadata": {},
     "output_type": "execute_result"
    }
   ],
   "source": [
    "soup.find_all(attrs = {'class': re.compile('^app')})"
   ]
  },
  {
   "cell_type": "code",
   "execution_count": 32,
   "metadata": {},
   "outputs": [
    {
     "data": {
      "text/plain": [
       "[<a class=\"apple\" href=\"https://www.alimentarium.org/en/knowledge/eve-and-forbidden-fruit\" id=\"link1\">Eve's apple</a>,\n",
       " <a class=\"apple\" href=\"https://en.wikipedia.org/wiki/Newton%27s_Apple\" id=\"link2\">Newton's apple</a>,\n",
       " <a class=\"apple\" href=\"https://en.wikipedia.org/wiki/Apple_Store\" id=\"link3\">Steve Jobs' Apple</a>]"
      ]
     },
     "execution_count": 32,
     "metadata": {},
     "output_type": "execute_result"
    }
   ],
   "source": [
    "soup.find_all(attrs = {'class': re.compile('^app'), 'href': True})"
   ]
  },
  {
   "cell_type": "markdown",
   "metadata": {},
   "source": [
    "#### This code will search for first \"anchor\" tag having \"class\" attributes and having \"s\" in that class value (not only in starting position)"
   ]
  },
  {
   "cell_type": "code",
   "execution_count": 33,
   "metadata": {},
   "outputs": [
    {
     "data": {
      "text/plain": [
       "<a class=\"3_Apples\" href=\"https://www.speakingtree.in/blog/three-apples-that-changed-the-world\" id=\"link4\">Here</a>"
      ]
     },
     "execution_count": 33,
     "metadata": {},
     "output_type": "execute_result"
    }
   ],
   "source": [
    "soup.find('a', attrs = {'class': re.compile('s')})"
   ]
  },
  {
   "cell_type": "code",
   "execution_count": 34,
   "metadata": {},
   "outputs": [
    {
     "name": "stdout",
     "output_type": "stream",
     "text": [
      "<head>\n",
      "<title>Three Apples</title>\n",
      "</head>\n",
      "<title>Three Apples</title>\n"
     ]
    }
   ],
   "source": [
    "for tag in soup.find_all(re.compile(\"e\")):\n",
    "    print(tag)"
   ]
  },
  {
   "cell_type": "code",
   "execution_count": 35,
   "metadata": {},
   "outputs": [
    {
     "name": "stdout",
     "output_type": "stream",
     "text": [
      "head\n",
      "title\n"
     ]
    }
   ],
   "source": [
    "for tag in soup.find_all(re.compile(\"e\")):\n",
    "    print(tag.name)"
   ]
  },
  {
   "cell_type": "code",
   "execution_count": 36,
   "metadata": {},
   "outputs": [
    {
     "name": "stdout",
     "output_type": "stream",
     "text": [
      "<a class=\"apple\" href=\"https://www.alimentarium.org/en/knowledge/eve-and-forbidden-fruit\" id=\"link1\">Eve's apple</a>\n",
      "<a class=\"apple\" href=\"https://en.wikipedia.org/wiki/Newton%27s_Apple\" id=\"link2\">Newton's apple</a>\n",
      "<a class=\"apple\" href=\"https://en.wikipedia.org/wiki/Apple_Store\" id=\"link3\">Steve Jobs' Apple</a>\n",
      "<a class=\"3_Apples\" href=\"https://www.speakingtree.in/blog/three-apples-that-changed-the-world\" id=\"link4\">Here</a>\n"
     ]
    }
   ],
   "source": [
    "for tag in soup.find_all(id = re.compile(\"\\d\")):\n",
    "    print(tag)"
   ]
  },
  {
   "cell_type": "code",
   "execution_count": 37,
   "metadata": {},
   "outputs": [
    {
     "name": "stdout",
     "output_type": "stream",
     "text": [
      "<a class=\"apple\" href=\"https://en.wikipedia.org/wiki/Newton%27s_Apple\" id=\"link2\">Newton's apple</a>\n",
      "<a class=\"apple\" href=\"https://en.wikipedia.org/wiki/Apple_Store\" id=\"link3\">Steve Jobs' Apple</a>\n"
     ]
    }
   ],
   "source": [
    "for tag in soup.findAll(href = re.compile(\"wikipedia\")):\n",
    "    print(tag)"
   ]
  },
  {
   "cell_type": "markdown",
   "metadata": {},
   "source": [
    "### List"
   ]
  },
  {
   "cell_type": "markdown",
   "metadata": {},
   "source": [
    "#### If we pass string in list formate to method then BeautifulSoup will do match against that items (not in a order how we have passed in list)"
   ]
  },
  {
   "cell_type": "markdown",
   "metadata": {},
   "source": [
    "#### This code will find all \"img\" tags and \"title\" tags."
   ]
  },
  {
   "cell_type": "code",
   "execution_count": 38,
   "metadata": {},
   "outputs": [
    {
     "data": {
      "text/plain": [
       "[<title>Three Apples</title>, <img alt=\"Image of apples\" src=\"Apples.jpg\"/>]"
      ]
     },
     "execution_count": 38,
     "metadata": {},
     "output_type": "execute_result"
    }
   ],
   "source": [
    "soup.find_all(['title', 'img'])"
   ]
  },
  {
   "cell_type": "markdown",
   "metadata": {},
   "source": [
    "#### This will find the all \"a\" tags, \"i\" tags and \"b\" tags. Here we have passed list as nested list (list inside other list)."
   ]
  },
  {
   "cell_type": "code",
   "execution_count": 39,
   "metadata": {},
   "outputs": [
    {
     "data": {
      "text/plain": [
       "[<b>The three Apples that changed the world</b>,\n",
       " <a class=\"apple\" href=\"https://www.alimentarium.org/en/knowledge/eve-and-forbidden-fruit\" id=\"link1\">Eve's apple</a>,\n",
       " <a class=\"apple\" href=\"https://en.wikipedia.org/wiki/Newton%27s_Apple\" id=\"link2\">Newton's apple</a>,\n",
       " <a class=\"apple\" href=\"https://en.wikipedia.org/wiki/Apple_Store\" id=\"link3\">Steve Jobs' Apple</a>,\n",
       " <a class=\"3_Apples\" href=\"https://www.speakingtree.in/blog/three-apples-that-changed-the-world\" id=\"link4\">Here</a>,\n",
       " <i class=\"apple\">We may have rarely observed these many facets of this remarkably insignificant fruit</i>]"
      ]
     },
     "execution_count": 39,
     "metadata": {},
     "output_type": "execute_result"
    }
   ],
   "source": [
    "soup.find_all(['a', 'i', 'b'])"
   ]
  },
  {
   "cell_type": "markdown",
   "metadata": {},
   "source": [
    "#### If we want to find all the tags we can simply pass \"True\" in search method and this will find all the tags."
   ]
  },
  {
   "cell_type": "code",
   "execution_count": 40,
   "metadata": {},
   "outputs": [
    {
     "name": "stdout",
     "output_type": "stream",
     "text": [
      "<html>\n",
      "<head>\n",
      "<title>Three Apples</title>\n",
      "</head>\n",
      "<body>\n",
      "<p class=\"title\"><b>The three Apples that changed the world</b></p>\n",
      "<p class=\"story\">Apple has been the divine fruit of creation, the inspiring fruit of the century and the most valuable logo and the 3 apples are \n",
      "\t<a class=\"apple\" href=\"https://www.alimentarium.org/en/knowledge/eve-and-forbidden-fruit\" id=\"link1\">Eve's apple</a>, \n",
      "\t<a class=\"apple\" href=\"https://en.wikipedia.org/wiki/Newton%27s_Apple\" id=\"link2\">Newton's apple</a> and\n",
      "\t<a class=\"apple\" href=\"https://en.wikipedia.org/wiki/Apple_Store\" id=\"link3\">Steve Jobs' Apple</a>.\n",
      "\t<a class=\"3_Apples\" href=\"https://www.speakingtree.in/blog/three-apples-that-changed-the-world\" id=\"link4\">Here</a> is the complete story </p>\n",
      "<img alt=\"Image of apples\" src=\"Apples.jpg\"/>\n",
      "<p>\n",
      "<i class=\"apple\">We may have rarely observed these many facets of this remarkably insignificant fruit</i>\n",
      "</p>\n",
      "</body>\n",
      "</html>\n",
      "<head>\n",
      "<title>Three Apples</title>\n",
      "</head>\n",
      "<title>Three Apples</title>\n",
      "<body>\n",
      "<p class=\"title\"><b>The three Apples that changed the world</b></p>\n",
      "<p class=\"story\">Apple has been the divine fruit of creation, the inspiring fruit of the century and the most valuable logo and the 3 apples are \n",
      "\t<a class=\"apple\" href=\"https://www.alimentarium.org/en/knowledge/eve-and-forbidden-fruit\" id=\"link1\">Eve's apple</a>, \n",
      "\t<a class=\"apple\" href=\"https://en.wikipedia.org/wiki/Newton%27s_Apple\" id=\"link2\">Newton's apple</a> and\n",
      "\t<a class=\"apple\" href=\"https://en.wikipedia.org/wiki/Apple_Store\" id=\"link3\">Steve Jobs' Apple</a>.\n",
      "\t<a class=\"3_Apples\" href=\"https://www.speakingtree.in/blog/three-apples-that-changed-the-world\" id=\"link4\">Here</a> is the complete story </p>\n",
      "<img alt=\"Image of apples\" src=\"Apples.jpg\"/>\n",
      "<p>\n",
      "<i class=\"apple\">We may have rarely observed these many facets of this remarkably insignificant fruit</i>\n",
      "</p>\n",
      "</body>\n",
      "<p class=\"title\"><b>The three Apples that changed the world</b></p>\n",
      "<b>The three Apples that changed the world</b>\n",
      "<p class=\"story\">Apple has been the divine fruit of creation, the inspiring fruit of the century and the most valuable logo and the 3 apples are \n",
      "\t<a class=\"apple\" href=\"https://www.alimentarium.org/en/knowledge/eve-and-forbidden-fruit\" id=\"link1\">Eve's apple</a>, \n",
      "\t<a class=\"apple\" href=\"https://en.wikipedia.org/wiki/Newton%27s_Apple\" id=\"link2\">Newton's apple</a> and\n",
      "\t<a class=\"apple\" href=\"https://en.wikipedia.org/wiki/Apple_Store\" id=\"link3\">Steve Jobs' Apple</a>.\n",
      "\t<a class=\"3_Apples\" href=\"https://www.speakingtree.in/blog/three-apples-that-changed-the-world\" id=\"link4\">Here</a> is the complete story </p>\n",
      "<a class=\"apple\" href=\"https://www.alimentarium.org/en/knowledge/eve-and-forbidden-fruit\" id=\"link1\">Eve's apple</a>\n",
      "<a class=\"apple\" href=\"https://en.wikipedia.org/wiki/Newton%27s_Apple\" id=\"link2\">Newton's apple</a>\n",
      "<a class=\"apple\" href=\"https://en.wikipedia.org/wiki/Apple_Store\" id=\"link3\">Steve Jobs' Apple</a>\n",
      "<a class=\"3_Apples\" href=\"https://www.speakingtree.in/blog/three-apples-that-changed-the-world\" id=\"link4\">Here</a>\n",
      "<img alt=\"Image of apples\" src=\"Apples.jpg\"/>\n",
      "<p>\n",
      "<i class=\"apple\">We may have rarely observed these many facets of this remarkably insignificant fruit</i>\n",
      "</p>\n",
      "<i class=\"apple\">We may have rarely observed these many facets of this remarkably insignificant fruit</i>\n"
     ]
    }
   ],
   "source": [
    "for tag in soup.find_all(True):\n",
    "    print(tag)"
   ]
  },
  {
   "cell_type": "markdown",
   "metadata": {},
   "source": [
    "### Function"
   ]
  },
  {
   "cell_type": "code",
   "execution_count": 41,
   "metadata": {},
   "outputs": [],
   "source": [
    "def has_src_but_no_href(tag):\n",
    "    return tag.has_attr('src') and not tag.has_attr('href')"
   ]
  },
  {
   "cell_type": "code",
   "execution_count": 42,
   "metadata": {},
   "outputs": [
    {
     "data": {
      "text/plain": [
       "[<img alt=\"Image of apples\" src=\"Apples.jpg\"/>]"
      ]
     },
     "execution_count": 42,
     "metadata": {},
     "output_type": "execute_result"
    }
   ],
   "source": [
    "soup.find_all(has_src_but_no_href)"
   ]
  },
  {
   "cell_type": "code",
   "execution_count": 43,
   "metadata": {},
   "outputs": [],
   "source": [
    "def has_href_but_no_src(tag):\n",
    "    return tag.has_attr('href') and not tag.has_attr('src')"
   ]
  },
  {
   "cell_type": "code",
   "execution_count": 44,
   "metadata": {},
   "outputs": [
    {
     "data": {
      "text/plain": [
       "[<a class=\"apple\" href=\"https://www.alimentarium.org/en/knowledge/eve-and-forbidden-fruit\" id=\"link1\">Eve's apple</a>,\n",
       " <a class=\"apple\" href=\"https://en.wikipedia.org/wiki/Newton%27s_Apple\" id=\"link2\">Newton's apple</a>,\n",
       " <a class=\"apple\" href=\"https://en.wikipedia.org/wiki/Apple_Store\" id=\"link3\">Steve Jobs' Apple</a>,\n",
       " <a class=\"3_Apples\" href=\"https://www.speakingtree.in/blog/three-apples-that-changed-the-world\" id=\"link4\">Here</a>]"
      ]
     },
     "execution_count": 44,
     "metadata": {},
     "output_type": "execute_result"
    }
   ],
   "source": [
    "soup.find_all(has_href_but_no_src)"
   ]
  },
  {
   "cell_type": "code",
   "execution_count": 45,
   "metadata": {},
   "outputs": [],
   "source": [
    "def eve_apple(href):\n",
    "    return href and re.compile(\"eve\").search(href)"
   ]
  },
  {
   "cell_type": "code",
   "execution_count": 46,
   "metadata": {},
   "outputs": [
    {
     "data": {
      "text/plain": [
       "[<a class=\"apple\" href=\"https://www.alimentarium.org/en/knowledge/eve-and-forbidden-fruit\" id=\"link1\">Eve's apple</a>]"
      ]
     },
     "execution_count": 46,
     "metadata": {},
     "output_type": "execute_result"
    }
   ],
   "source": [
    "soup.find_all(href = eve_apple)"
   ]
  },
  {
   "cell_type": "code",
   "execution_count": 47,
   "metadata": {},
   "outputs": [],
   "source": [
    "def no_wikipedia_link(href):\n",
    "    return href and not re.compile(\"wiki\").search(href)"
   ]
  },
  {
   "cell_type": "code",
   "execution_count": 48,
   "metadata": {},
   "outputs": [
    {
     "data": {
      "text/plain": [
       "[<a class=\"apple\" href=\"https://www.alimentarium.org/en/knowledge/eve-and-forbidden-fruit\" id=\"link1\">Eve's apple</a>,\n",
       " <a class=\"3_Apples\" href=\"https://www.speakingtree.in/blog/three-apples-that-changed-the-world\" id=\"link4\">Here</a>]"
      ]
     },
     "execution_count": 48,
     "metadata": {},
     "output_type": "execute_result"
    }
   ],
   "source": [
    "soup.find_all(href = no_wikipedia_link)"
   ]
  }
 ],
 "metadata": {
  "kernelspec": {
   "display_name": "Python 3",
   "language": "python",
   "name": "python3"
  },
  "language_info": {
   "codemirror_mode": {
    "name": "ipython",
    "version": 3
   },
   "file_extension": ".py",
   "mimetype": "text/x-python",
   "name": "python",
   "nbconvert_exporter": "python",
   "pygments_lexer": "ipython3",
   "version": "3.7.6"
  }
 },
 "nbformat": 4,
 "nbformat_minor": 2
}
