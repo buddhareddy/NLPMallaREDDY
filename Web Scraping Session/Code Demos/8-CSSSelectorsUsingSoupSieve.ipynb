{
 "cells": [
  {
   "cell_type": "code",
   "execution_count": 1,
   "metadata": {},
   "outputs": [],
   "source": [
    "from bs4 import BeautifulSoup"
   ]
  },
  {
   "cell_type": "markdown",
   "metadata": {},
   "source": [
    "### Find page elements using CSS_Selectors"
   ]
  },
  {
   "cell_type": "code",
   "execution_count": 2,
   "metadata": {},
   "outputs": [],
   "source": [
    "with open('files/TomJerry_WithImages.html') as html_code:\n",
    "    soup = BeautifulSoup(html_code, 'html.parser')"
   ]
  },
  {
   "cell_type": "code",
   "execution_count": 3,
   "metadata": {},
   "outputs": [
    {
     "data": {
      "text/plain": [
       "<html>\n",
       "<head>\n",
       "<title> The story of Tom and Jerry </title>\n",
       "</head>\n",
       "<body class=\"container\">\n",
       "<h1>Tom and Jerry</h1>&gt;\n",
       "    <img alt=\"cartoon_image\" height=\"300\" src=\"TomAndJerry.jpg\" width=\"300\"/>\n",
       "<p class=\"comedy animated series\">\n",
       "        Tom and Jerry is an American animated series of comedy short films created by \n",
       "        <a class=\"creator\" href=\"https://en.wikipedia.org/wiki/William_Hanna\" id=\"link1\">William Hanna</a> and  \n",
       "        <a class=\"creator\" href=\"https://en.wikipedia.org/wiki/Joseph_Barbera\" id=\"link2\">Joseph Barbera</a>. \n",
       "        It centers on a rivalry between the title characters\n",
       "        <a class=\"character\" href=\"https://en.wikipedia.org/wiki/Tom_Cat\" id=\"link3\">Tom</a>, a cat, and \n",
       "        <a class=\"character\" href=\"https://en.wikipedia.org/wiki/Jerry_Mouse\" id=\"link4\">Jerry</a>, a mouse.</p>\n",
       "<div>\n",
       "<img alt=\"creator_image\" height=\"300\" name=\"William_Hanna\" src=\"https://upload.wikimedia.org/wikipedia/commons/d/d2/William_Hanna_1977.jpg\" width=\"300\"/>\n",
       "<img alt=\"creator_image\" height=\"300\" name=\"Joseph_Barbera\" src=\"https://upload.wikimedia.org/wikipedia/commons/6/67/JBarbera.jpg\" width=\"300\"/>\n",
       "<img src=\"https://upload.wikimedia.org/wikipedia/en/2/2f/Jerry_Mouse.png\"/>\n",
       "<img extra-info=\"Tom_Cat\" src=\"https://upload.wikimedia.org/wikipedia/en/f/f6/Tom_Tom_and_Jerry.png\"/>\n",
       "</div>\n",
       "<p class=\"comedy story\">\n",
       "<b>\n",
       "                The series features comic fights between an iconic pair of adversaries, \n",
       "                a house cat (Tom) and a mouse (Jerry). The plots of each short usually center on Tom's \n",
       "                numerous attempts to capture Jerry and the mayhem and destruction that follows. \n",
       "                Tom rarely succeeds in catching Jerry, mainly because of Jerry's cleverness, \n",
       "                cunning abilities, and luck. \n",
       "            </b>\n",
       "</p>\n",
       "<i>Tom and Jerry show is a full length comedy show</i>\n",
       "</body>\n",
       "</html>"
      ]
     },
     "execution_count": 3,
     "metadata": {},
     "output_type": "execute_result"
    }
   ],
   "source": [
    "soup"
   ]
  },
  {
   "cell_type": "markdown",
   "metadata": {},
   "source": [
    "#### Finding tags using CSS Selectors"
   ]
  },
  {
   "cell_type": "code",
   "execution_count": 4,
   "metadata": {},
   "outputs": [
    {
     "data": {
      "text/plain": [
       "[<title> The story of Tom and Jerry </title>]"
      ]
     },
     "execution_count": 4,
     "metadata": {},
     "output_type": "execute_result"
    }
   ],
   "source": [
    "soup.select(\"title\")"
   ]
  },
  {
   "cell_type": "code",
   "execution_count": 5,
   "metadata": {},
   "outputs": [
    {
     "data": {
      "text/plain": [
       "[<p class=\"comedy animated series\">\n",
       "         Tom and Jerry is an American animated series of comedy short films created by \n",
       "         <a class=\"creator\" href=\"https://en.wikipedia.org/wiki/William_Hanna\" id=\"link1\">William Hanna</a> and  \n",
       "         <a class=\"creator\" href=\"https://en.wikipedia.org/wiki/Joseph_Barbera\" id=\"link2\">Joseph Barbera</a>. \n",
       "         It centers on a rivalry between the title characters\n",
       "         <a class=\"character\" href=\"https://en.wikipedia.org/wiki/Tom_Cat\" id=\"link3\">Tom</a>, a cat, and \n",
       "         <a class=\"character\" href=\"https://en.wikipedia.org/wiki/Jerry_Mouse\" id=\"link4\">Jerry</a>, a mouse.</p>]"
      ]
     },
     "execution_count": 5,
     "metadata": {},
     "output_type": "execute_result"
    }
   ],
   "source": [
    "soup.select(\"p:nth-of-type(1)\")"
   ]
  },
  {
   "cell_type": "code",
   "execution_count": 6,
   "metadata": {},
   "outputs": [
    {
     "data": {
      "text/plain": [
       "[<p class=\"comedy story\">\n",
       " <b>\n",
       "                 The series features comic fights between an iconic pair of adversaries, \n",
       "                 a house cat (Tom) and a mouse (Jerry). The plots of each short usually center on Tom's \n",
       "                 numerous attempts to capture Jerry and the mayhem and destruction that follows. \n",
       "                 Tom rarely succeeds in catching Jerry, mainly because of Jerry's cleverness, \n",
       "                 cunning abilities, and luck. \n",
       "             </b>\n",
       " </p>]"
      ]
     },
     "execution_count": 6,
     "metadata": {},
     "output_type": "execute_result"
    }
   ],
   "source": [
    "soup.select(\"p:nth-of-type(2)\")"
   ]
  },
  {
   "cell_type": "code",
   "execution_count": 7,
   "metadata": {},
   "outputs": [
    {
     "data": {
      "text/plain": [
       "[<a class=\"creator\" href=\"https://en.wikipedia.org/wiki/William_Hanna\" id=\"link1\">William Hanna</a>,\n",
       " <a class=\"creator\" href=\"https://en.wikipedia.org/wiki/Joseph_Barbera\" id=\"link2\">Joseph Barbera</a>,\n",
       " <a class=\"character\" href=\"https://en.wikipedia.org/wiki/Tom_Cat\" id=\"link3\">Tom</a>,\n",
       " <a class=\"character\" href=\"https://en.wikipedia.org/wiki/Jerry_Mouse\" id=\"link4\">Jerry</a>]"
      ]
     },
     "execution_count": 7,
     "metadata": {},
     "output_type": "execute_result"
    }
   ],
   "source": [
    "soup.select(\"a\")"
   ]
  },
  {
   "cell_type": "code",
   "execution_count": 8,
   "metadata": {},
   "outputs": [
    {
     "data": {
      "text/plain": [
       "[<i>Tom and Jerry show is a full length comedy show</i>]"
      ]
     },
     "execution_count": 8,
     "metadata": {},
     "output_type": "execute_result"
    }
   ],
   "source": [
    "soup.select(\"i\")"
   ]
  },
  {
   "cell_type": "markdown",
   "metadata": {},
   "source": [
    "#### Finding tags beneath other tags"
   ]
  },
  {
   "cell_type": "code",
   "execution_count": 9,
   "metadata": {},
   "outputs": [
    {
     "data": {
      "text/plain": [
       "[<a class=\"creator\" href=\"https://en.wikipedia.org/wiki/William_Hanna\" id=\"link1\">William Hanna</a>,\n",
       " <a class=\"creator\" href=\"https://en.wikipedia.org/wiki/Joseph_Barbera\" id=\"link2\">Joseph Barbera</a>,\n",
       " <a class=\"character\" href=\"https://en.wikipedia.org/wiki/Tom_Cat\" id=\"link3\">Tom</a>,\n",
       " <a class=\"character\" href=\"https://en.wikipedia.org/wiki/Jerry_Mouse\" id=\"link4\">Jerry</a>]"
      ]
     },
     "execution_count": 9,
     "metadata": {},
     "output_type": "execute_result"
    }
   ],
   "source": [
    "soup.select(\"body p a\")"
   ]
  },
  {
   "cell_type": "code",
   "execution_count": 10,
   "metadata": {},
   "outputs": [
    {
     "data": {
      "text/plain": [
       "[<a class=\"creator\" href=\"https://en.wikipedia.org/wiki/William_Hanna\" id=\"link1\">William Hanna</a>,\n",
       " <a class=\"creator\" href=\"https://en.wikipedia.org/wiki/Joseph_Barbera\" id=\"link2\">Joseph Barbera</a>,\n",
       " <a class=\"character\" href=\"https://en.wikipedia.org/wiki/Tom_Cat\" id=\"link3\">Tom</a>,\n",
       " <a class=\"character\" href=\"https://en.wikipedia.org/wiki/Jerry_Mouse\" id=\"link4\">Jerry</a>]"
      ]
     },
     "execution_count": 10,
     "metadata": {},
     "output_type": "execute_result"
    }
   ],
   "source": [
    "soup.select(\"body a\")"
   ]
  },
  {
   "cell_type": "code",
   "execution_count": 11,
   "metadata": {},
   "outputs": [
    {
     "data": {
      "text/plain": [
       "[<title> The story of Tom and Jerry </title>]"
      ]
     },
     "execution_count": 11,
     "metadata": {},
     "output_type": "execute_result"
    }
   ],
   "source": [
    "soup.select(\"head title\")"
   ]
  },
  {
   "cell_type": "code",
   "execution_count": 12,
   "metadata": {},
   "outputs": [
    {
     "data": {
      "text/plain": [
       "[<b>\n",
       "                 The series features comic fights between an iconic pair of adversaries, \n",
       "                 a house cat (Tom) and a mouse (Jerry). The plots of each short usually center on Tom's \n",
       "                 numerous attempts to capture Jerry and the mayhem and destruction that follows. \n",
       "                 Tom rarely succeeds in catching Jerry, mainly because of Jerry's cleverness, \n",
       "                 cunning abilities, and luck. \n",
       "             </b>]"
      ]
     },
     "execution_count": 12,
     "metadata": {},
     "output_type": "execute_result"
    }
   ],
   "source": [
    "soup.select(\"body b\")"
   ]
  },
  {
   "cell_type": "code",
   "execution_count": 13,
   "metadata": {},
   "outputs": [
    {
     "data": {
      "text/plain": [
       "<p class=\"comedy story\">\n",
       "<b>\n",
       "                The series features comic fights between an iconic pair of adversaries, \n",
       "                a house cat (Tom) and a mouse (Jerry). The plots of each short usually center on Tom's \n",
       "                numerous attempts to capture Jerry and the mayhem and destruction that follows. \n",
       "                Tom rarely succeeds in catching Jerry, mainly because of Jerry's cleverness, \n",
       "                cunning abilities, and luck. \n",
       "            </b>\n",
       "</p>"
      ]
     },
     "execution_count": 13,
     "metadata": {},
     "output_type": "execute_result"
    }
   ],
   "source": [
    "soup.select(\"body b\")[0].parent"
   ]
  },
  {
   "cell_type": "markdown",
   "metadata": {},
   "source": [
    "#### Finding tags directly beneath other tags"
   ]
  },
  {
   "cell_type": "code",
   "execution_count": 14,
   "metadata": {},
   "outputs": [
    {
     "data": {
      "text/plain": [
       "[<title> The story of Tom and Jerry </title>]"
      ]
     },
     "execution_count": 14,
     "metadata": {},
     "output_type": "execute_result"
    }
   ],
   "source": [
    "soup.select(\"head > title\")"
   ]
  },
  {
   "cell_type": "code",
   "execution_count": 15,
   "metadata": {},
   "outputs": [
    {
     "data": {
      "text/plain": [
       "[]"
      ]
     },
     "execution_count": 15,
     "metadata": {},
     "output_type": "execute_result"
    }
   ],
   "source": [
    "soup.select(\"body > img:nth-of-type(2)\")"
   ]
  },
  {
   "cell_type": "code",
   "execution_count": 16,
   "metadata": {},
   "outputs": [
    {
     "data": {
      "text/plain": [
       "[<img alt=\"creator_image\" height=\"300\" name=\"Joseph_Barbera\" src=\"https://upload.wikimedia.org/wikipedia/commons/6/67/JBarbera.jpg\" width=\"300\"/>]"
      ]
     },
     "execution_count": 16,
     "metadata": {},
     "output_type": "execute_result"
    }
   ],
   "source": [
    "soup.select(\"body > div > img:nth-of-type(2)\")"
   ]
  },
  {
   "cell_type": "markdown",
   "metadata": {},
   "source": [
    "#### Finding siblings of tags"
   ]
  },
  {
   "cell_type": "code",
   "execution_count": 17,
   "metadata": {},
   "outputs": [
    {
     "data": {
      "text/plain": [
       "[<a class=\"creator\" href=\"https://en.wikipedia.org/wiki/Joseph_Barbera\" id=\"link2\">Joseph Barbera</a>]"
      ]
     },
     "execution_count": 17,
     "metadata": {},
     "output_type": "execute_result"
    }
   ],
   "source": [
    "soup.select(\"#link1 ~ .creator\")"
   ]
  },
  {
   "cell_type": "code",
   "execution_count": 18,
   "metadata": {},
   "outputs": [
    {
     "data": {
      "text/plain": [
       "[<a class=\"creator\" href=\"https://en.wikipedia.org/wiki/Joseph_Barbera\" id=\"link2\">Joseph Barbera</a>]"
      ]
     },
     "execution_count": 18,
     "metadata": {},
     "output_type": "execute_result"
    }
   ],
   "source": [
    "soup.select(\"#link1 + .creator\")"
   ]
  },
  {
   "cell_type": "markdown",
   "metadata": {},
   "source": [
    "#### Finding tags by CSS class"
   ]
  },
  {
   "cell_type": "code",
   "execution_count": 19,
   "metadata": {},
   "outputs": [
    {
     "data": {
      "text/plain": [
       "[<a class=\"creator\" href=\"https://en.wikipedia.org/wiki/William_Hanna\" id=\"link1\">William Hanna</a>,\n",
       " <a class=\"creator\" href=\"https://en.wikipedia.org/wiki/Joseph_Barbera\" id=\"link2\">Joseph Barbera</a>]"
      ]
     },
     "execution_count": 19,
     "metadata": {},
     "output_type": "execute_result"
    }
   ],
   "source": [
    "soup.select(\".creator\")"
   ]
  },
  {
   "cell_type": "code",
   "execution_count": 20,
   "metadata": {},
   "outputs": [
    {
     "data": {
      "text/plain": [
       "[<p class=\"comedy animated series\">\n",
       "         Tom and Jerry is an American animated series of comedy short films created by \n",
       "         <a class=\"creator\" href=\"https://en.wikipedia.org/wiki/William_Hanna\" id=\"link1\">William Hanna</a> and  \n",
       "         <a class=\"creator\" href=\"https://en.wikipedia.org/wiki/Joseph_Barbera\" id=\"link2\">Joseph Barbera</a>. \n",
       "         It centers on a rivalry between the title characters\n",
       "         <a class=\"character\" href=\"https://en.wikipedia.org/wiki/Tom_Cat\" id=\"link3\">Tom</a>, a cat, and \n",
       "         <a class=\"character\" href=\"https://en.wikipedia.org/wiki/Jerry_Mouse\" id=\"link4\">Jerry</a>, a mouse.</p>,\n",
       " <p class=\"comedy story\">\n",
       " <b>\n",
       "                 The series features comic fights between an iconic pair of adversaries, \n",
       "                 a house cat (Tom) and a mouse (Jerry). The plots of each short usually center on Tom's \n",
       "                 numerous attempts to capture Jerry and the mayhem and destruction that follows. \n",
       "                 Tom rarely succeeds in catching Jerry, mainly because of Jerry's cleverness, \n",
       "                 cunning abilities, and luck. \n",
       "             </b>\n",
       " </p>]"
      ]
     },
     "execution_count": 20,
     "metadata": {},
     "output_type": "execute_result"
    }
   ],
   "source": [
    "soup.select(\".comedy\")"
   ]
  },
  {
   "cell_type": "code",
   "execution_count": 21,
   "metadata": {},
   "outputs": [
    {
     "data": {
      "text/plain": [
       "[<p class=\"comedy animated series\">\n",
       "         Tom and Jerry is an American animated series of comedy short films created by \n",
       "         <a class=\"creator\" href=\"https://en.wikipedia.org/wiki/William_Hanna\" id=\"link1\">William Hanna</a> and  \n",
       "         <a class=\"creator\" href=\"https://en.wikipedia.org/wiki/Joseph_Barbera\" id=\"link2\">Joseph Barbera</a>. \n",
       "         It centers on a rivalry between the title characters\n",
       "         <a class=\"character\" href=\"https://en.wikipedia.org/wiki/Tom_Cat\" id=\"link3\">Tom</a>, a cat, and \n",
       "         <a class=\"character\" href=\"https://en.wikipedia.org/wiki/Jerry_Mouse\" id=\"link4\">Jerry</a>, a mouse.</p>]"
      ]
     },
     "execution_count": 21,
     "metadata": {},
     "output_type": "execute_result"
    }
   ],
   "source": [
    "soup.select(\"[class~=animated]\")"
   ]
  },
  {
   "cell_type": "markdown",
   "metadata": {},
   "source": [
    "#### Finding tags by ID"
   ]
  },
  {
   "cell_type": "code",
   "execution_count": 22,
   "metadata": {},
   "outputs": [
    {
     "data": {
      "text/plain": [
       "[<a class=\"character\" href=\"https://en.wikipedia.org/wiki/Tom_Cat\" id=\"link3\">Tom</a>]"
      ]
     },
     "execution_count": 22,
     "metadata": {},
     "output_type": "execute_result"
    }
   ],
   "source": [
    "soup.select(\"#link3\")"
   ]
  },
  {
   "cell_type": "code",
   "execution_count": 23,
   "metadata": {},
   "outputs": [
    {
     "data": {
      "text/plain": [
       "[<a class=\"character\" href=\"https://en.wikipedia.org/wiki/Tom_Cat\" id=\"link3\">Tom</a>]"
      ]
     },
     "execution_count": 23,
     "metadata": {},
     "output_type": "execute_result"
    }
   ],
   "source": [
    "soup.select(\"a#link3\")"
   ]
  },
  {
   "cell_type": "markdown",
   "metadata": {},
   "source": [
    "#### Finding tags that match any selector from a list of selectors"
   ]
  },
  {
   "cell_type": "code",
   "execution_count": 24,
   "metadata": {},
   "outputs": [
    {
     "data": {
      "text/plain": [
       "[<a class=\"creator\" href=\"https://en.wikipedia.org/wiki/Joseph_Barbera\" id=\"link2\">Joseph Barbera</a>,\n",
       " <a class=\"character\" href=\"https://en.wikipedia.org/wiki/Tom_Cat\" id=\"link3\">Tom</a>]"
      ]
     },
     "execution_count": 24,
     "metadata": {},
     "output_type": "execute_result"
    }
   ],
   "source": [
    "soup.select(\"#link2,#link3\")"
   ]
  },
  {
   "cell_type": "markdown",
   "metadata": {},
   "source": [
    "#### Finding tags by attribute value"
   ]
  },
  {
   "cell_type": "code",
   "execution_count": 25,
   "metadata": {},
   "outputs": [
    {
     "data": {
      "text/plain": [
       "[<img alt=\"cartoon_image\" height=\"300\" src=\"TomAndJerry.jpg\" width=\"300\"/>,\n",
       " <img alt=\"creator_image\" height=\"300\" name=\"William_Hanna\" src=\"https://upload.wikimedia.org/wikipedia/commons/d/d2/William_Hanna_1977.jpg\" width=\"300\"/>,\n",
       " <img alt=\"creator_image\" height=\"300\" name=\"Joseph_Barbera\" src=\"https://upload.wikimedia.org/wikipedia/commons/6/67/JBarbera.jpg\" width=\"300\"/>,\n",
       " <img src=\"https://upload.wikimedia.org/wikipedia/en/2/2f/Jerry_Mouse.png\"/>,\n",
       " <img extra-info=\"Tom_Cat\" src=\"https://upload.wikimedia.org/wikipedia/en/f/f6/Tom_Tom_and_Jerry.png\"/>]"
      ]
     },
     "execution_count": 25,
     "metadata": {},
     "output_type": "execute_result"
    }
   ],
   "source": [
    "soup.select('img[src]')"
   ]
  },
  {
   "cell_type": "code",
   "execution_count": 26,
   "metadata": {},
   "outputs": [
    {
     "data": {
      "text/plain": [
       "[<a class=\"creator\" href=\"https://en.wikipedia.org/wiki/William_Hanna\" id=\"link1\">William Hanna</a>,\n",
       " <a class=\"creator\" href=\"https://en.wikipedia.org/wiki/Joseph_Barbera\" id=\"link2\">Joseph Barbera</a>,\n",
       " <a class=\"character\" href=\"https://en.wikipedia.org/wiki/Tom_Cat\" id=\"link3\">Tom</a>,\n",
       " <a class=\"character\" href=\"https://en.wikipedia.org/wiki/Jerry_Mouse\" id=\"link4\">Jerry</a>]"
      ]
     },
     "execution_count": 26,
     "metadata": {},
     "output_type": "execute_result"
    }
   ],
   "source": [
    "soup.select(\"a[href]\")"
   ]
  },
  {
   "cell_type": "code",
   "execution_count": 27,
   "metadata": {},
   "outputs": [
    {
     "data": {
      "text/plain": [
       "[<img alt=\"creator_image\" height=\"300\" name=\"William_Hanna\" src=\"https://upload.wikimedia.org/wikipedia/commons/d/d2/William_Hanna_1977.jpg\" width=\"300\"/>]"
      ]
     },
     "execution_count": 27,
     "metadata": {},
     "output_type": "execute_result"
    }
   ],
   "source": [
    "soup.select('img[src=\"https://upload.wikimedia.org/wikipedia/commons/d/d2/William_Hanna_1977.jpg\"]')"
   ]
  },
  {
   "cell_type": "code",
   "execution_count": 28,
   "metadata": {},
   "outputs": [
    {
     "data": {
      "text/plain": [
       "[<img alt=\"cartoon_image\" height=\"300\" src=\"TomAndJerry.jpg\" width=\"300\"/>,\n",
       " <img alt=\"creator_image\" height=\"300\" name=\"William_Hanna\" src=\"https://upload.wikimedia.org/wikipedia/commons/d/d2/William_Hanna_1977.jpg\" width=\"300\"/>,\n",
       " <img alt=\"creator_image\" height=\"300\" name=\"Joseph_Barbera\" src=\"https://upload.wikimedia.org/wikipedia/commons/6/67/JBarbera.jpg\" width=\"300\"/>]"
      ]
     },
     "execution_count": 28,
     "metadata": {},
     "output_type": "execute_result"
    }
   ],
   "source": [
    "soup.select('img[src$=\".jpg\"]')"
   ]
  },
  {
   "cell_type": "code",
   "execution_count": 29,
   "metadata": {},
   "outputs": [
    {
     "data": {
      "text/plain": [
       "[<img alt=\"creator_image\" height=\"300\" name=\"William_Hanna\" src=\"https://upload.wikimedia.org/wikipedia/commons/d/d2/William_Hanna_1977.jpg\" width=\"300\"/>,\n",
       " <img alt=\"creator_image\" height=\"300\" name=\"Joseph_Barbera\" src=\"https://upload.wikimedia.org/wikipedia/commons/6/67/JBarbera.jpg\" width=\"300\"/>,\n",
       " <img src=\"https://upload.wikimedia.org/wikipedia/en/2/2f/Jerry_Mouse.png\"/>,\n",
       " <img extra-info=\"Tom_Cat\" src=\"https://upload.wikimedia.org/wikipedia/en/f/f6/Tom_Tom_and_Jerry.png\"/>]"
      ]
     },
     "execution_count": 29,
     "metadata": {},
     "output_type": "execute_result"
    }
   ],
   "source": [
    "soup.select('img[src^=\"https\"]')"
   ]
  },
  {
   "cell_type": "code",
   "execution_count": 30,
   "metadata": {},
   "outputs": [
    {
     "data": {
      "text/plain": [
       "[<img alt=\"creator_image\" height=\"300\" name=\"William_Hanna\" src=\"https://upload.wikimedia.org/wikipedia/commons/d/d2/William_Hanna_1977.jpg\" width=\"300\"/>,\n",
       " <img alt=\"creator_image\" height=\"300\" name=\"Joseph_Barbera\" src=\"https://upload.wikimedia.org/wikipedia/commons/6/67/JBarbera.jpg\" width=\"300\"/>,\n",
       " <img src=\"https://upload.wikimedia.org/wikipedia/en/2/2f/Jerry_Mouse.png\"/>,\n",
       " <img extra-info=\"Tom_Cat\" src=\"https://upload.wikimedia.org/wikipedia/en/f/f6/Tom_Tom_and_Jerry.png\"/>]"
      ]
     },
     "execution_count": 30,
     "metadata": {},
     "output_type": "execute_result"
    }
   ],
   "source": [
    "soup.select('img[src*=\".org\"]')"
   ]
  },
  {
   "cell_type": "markdown",
   "metadata": {},
   "source": [
    "#### Finding the first tag which matches the given selector"
   ]
  },
  {
   "cell_type": "code",
   "execution_count": 31,
   "metadata": {},
   "outputs": [
    {
     "data": {
      "text/plain": [
       "<a class=\"character\" href=\"https://en.wikipedia.org/wiki/Tom_Cat\" id=\"link3\">Tom</a>"
      ]
     },
     "execution_count": 31,
     "metadata": {},
     "output_type": "execute_result"
    }
   ],
   "source": [
    "soup.select_one(\".character\")"
   ]
  }
 ],
 "metadata": {
  "kernelspec": {
   "display_name": "Python 3",
   "language": "python",
   "name": "python3"
  },
  "language_info": {
   "codemirror_mode": {
    "name": "ipython",
    "version": 3
   },
   "file_extension": ".py",
   "mimetype": "text/x-python",
   "name": "python",
   "nbconvert_exporter": "python",
   "pygments_lexer": "ipython3",
   "version": "3.7.6"
  }
 },
 "nbformat": 4,
 "nbformat_minor": 2
}
